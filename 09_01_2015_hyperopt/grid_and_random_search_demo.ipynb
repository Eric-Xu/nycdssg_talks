{
 "cells": [
  {
   "cell_type": "code",
   "execution_count": 1,
   "metadata": {
    "collapsed": false
   },
   "outputs": [],
   "source": [
    "# load our dependencies\n",
    "import numpy as np\n",
    "import pandas as pd\n",
    "import matplotlib.pyplot as plt\n",
    "\n",
    "from scipy.stats import lognorm\n",
    "from sklearn.grid_search import GridSearchCV, RandomizedSearchCV\n",
    "from sklearn.linear_model import LogisticRegression\n",
    "from sklearn.cross_validation import cross_val_score\n",
    "from sklearn.feature_extraction.text import CountVectorizer\n",
    "\n",
    "%matplotlib inline\n",
    "plt.style.use(\"ggplot\")"
   ]
  },
  {
   "cell_type": "markdown",
   "metadata": {},
   "source": [
    "## Optimizing Hyper-parameters for Machine Learning\n",
    "\n",
    "**Objective:** Compare hyper-parameter results found through grid search and random search in predicting tweet sentiment.\n",
    "\n",
    "Notebook adapted from https://github.com/justmarkham/scikit-learn-videos/blob/master/08_grid_search.ipynb"
   ]
  },
  {
   "cell_type": "code",
   "execution_count": 2,
   "metadata": {
    "collapsed": false
   },
   "outputs": [
    {
     "name": "stdout",
     "output_type": "stream",
     "text": [
      "Total rows: 2034\n"
     ]
    },
    {
     "data": {
      "text/html": [
       "<div style=\"max-height:1000px;max-width:1500px;overflow:auto;\">\n",
       "<table border=\"1\" class=\"dataframe\">\n",
       "  <thead>\n",
       "    <tr style=\"text-align: right;\">\n",
       "      <th></th>\n",
       "      <th>id</th>\n",
       "      <th>polarity</th>\n",
       "      <th>tweet</th>\n",
       "    </tr>\n",
       "  </thead>\n",
       "  <tbody>\n",
       "    <tr>\n",
       "      <th>213</th>\n",
       "      <td>1559513777</td>\n",
       "      <td>0</td>\n",
       "      <td>I can't find my Ipod   Just tore the living ro...</td>\n",
       "    </tr>\n",
       "    <tr>\n",
       "      <th>214</th>\n",
       "      <td>1995955627</td>\n",
       "      <td>1</td>\n",
       "      <td>Going to Brians graduation. Wearing Taylor Swi...</td>\n",
       "    </tr>\n",
       "    <tr>\n",
       "      <th>215</th>\n",
       "      <td>1833721929</td>\n",
       "      <td>0</td>\n",
       "      <td>@KidFco0L LMAO my throat hurts... Man I told m...</td>\n",
       "    </tr>\n",
       "    <tr>\n",
       "      <th>216</th>\n",
       "      <td>2177370539</td>\n",
       "      <td>1</td>\n",
       "      <td>@taylorswift13 you're soooo talented and I wis...</td>\n",
       "    </tr>\n",
       "  </tbody>\n",
       "</table>\n",
       "</div>"
      ],
      "text/plain": [
       "             id  polarity                                              tweet\n",
       "213  1559513777         0  I can't find my Ipod   Just tore the living ro...\n",
       "214  1995955627         1  Going to Brians graduation. Wearing Taylor Swi...\n",
       "215  1833721929         0  @KidFco0L LMAO my throat hurts... Man I told m...\n",
       "216  2177370539         1  @taylorswift13 you're soooo talented and I wis..."
      ]
     },
     "execution_count": 2,
     "metadata": {},
     "output_type": "execute_result"
    }
   ],
   "source": [
    "# read in our labeled twitter data\n",
    "df = pd.read_csv(\"data/sts_gold_tweet.csv\",  sep=\";\")\n",
    "\n",
    "print \"Total rows:\", df.shape[0]\n",
    "df.iloc[213:217]"
   ]
  },
  {
   "cell_type": "code",
   "execution_count": 3,
   "metadata": {
    "collapsed": false
   },
   "outputs": [],
   "source": [
    "# convert tweets into bag-of-words to use as model features\n",
    "vectorizer = CountVectorizer()\n",
    "bag_of_words = vectorizer.fit_transform(df[\"tweet\"])\n",
    "\n",
    "# create X (features) and y (response)\n",
    "X = bag_of_words\n",
    "y = df.polarity"
   ]
  },
  {
   "cell_type": "markdown",
   "metadata": {},
   "source": [
    "### Manual parameter search using `cross_val_score`"
   ]
  },
  {
   "cell_type": "code",
   "execution_count": 4,
   "metadata": {
    "collapsed": false
   },
   "outputs": [
    {
     "name": "stdout",
     "output_type": "stream",
     "text": [
      "[ 0.83902439  0.85853659  0.82758621  0.86699507  0.8817734   0.87684729\n",
      "  0.87192118  0.83251232  0.80788177  0.85221675]\n"
     ]
    }
   ],
   "source": [
    "# initialize a logistic regression classifier with the regularization constant C=1 (the default)\n",
    "logreg = LogisticRegression(C=1)\n",
    "\n",
    "# run a 10-fold cross-validation with our classifier\n",
    "scores = cross_val_score(logreg, X, y, cv=10, scoring='accuracy')\n",
    "\n",
    "print scores"
   ]
  },
  {
   "cell_type": "code",
   "execution_count": 5,
   "metadata": {
    "collapsed": false
   },
   "outputs": [
    {
     "name": "stdout",
     "output_type": "stream",
     "text": [
      "0.851529496576\n"
     ]
    }
   ],
   "source": [
    "# use average accuracy as an estimate of out-of-sample accuracy\n",
    "print scores.mean()"
   ]
  },
  {
   "cell_type": "code",
   "execution_count": 6,
   "metadata": {
    "collapsed": false
   },
   "outputs": [
    {
     "name": "stdout",
     "output_type": "stream",
     "text": [
      "0.689285113541\n",
      "0.718793704193\n",
      "0.820031238736\n",
      "0.851529496576\n",
      "0.851515078698\n",
      "0.851539108495\n",
      "0.850061275982\n"
     ]
    }
   ],
   "source": [
    "# search for an optimal value of C for logistic regression\n",
    "c_range = [0.001, 0.01, 0.1, 1, 10, 100, 1000]\n",
    "c_scores = []\n",
    "\n",
    "# for each C value, run a 10-fold cross validation and return the average accuracy score\n",
    "for c in c_range:\n",
    "    clf = LogisticRegression(C=c)\n",
    "    scores = cross_val_score(clf, X, y, cv=10, scoring='accuracy')\n",
    "    c_scores.append(scores.mean())\n",
    "\n",
    "# print out the average accuracy scores for each C value\n",
    "for s in c_scores:\n",
    "    print s"
   ]
  },
  {
   "cell_type": "code",
   "execution_count": 7,
   "metadata": {
    "collapsed": false
   },
   "outputs": [
    {
     "data": {
      "image/png": "[encoded data removed]",
      "text/plain": [
       "<matplotlib.figure.Figure at 0x10407a750>"
      ]
     },
     "metadata": {},
     "output_type": "display_data"
    }
   ],
   "source": [
    "# plot the value of C (x-axis) versus the cross-validated accuracy (y-axis)\n",
    "plt.plot(c_range, c_scores)\n",
    "plt.xlabel(\"Value of C for Logistic Regression\")\n",
    "plt.ylabel(\"Cross-Validated Accuracy\")\n",
    "plt.xscale(\"log\")"
   ]
  },
  {
   "cell_type": "markdown",
   "metadata": {},
   "source": [
    "### Automating our parameter search using `GridSearchCV`"
   ]
  },
  {
   "cell_type": "code",
   "execution_count": 8,
   "metadata": {
    "collapsed": false
   },
   "outputs": [
    {
     "name": "stdout",
     "output_type": "stream",
     "text": [
      "{'C': [0.001, 0.01, 0.1, 1, 10, 100, 1000]}\n"
     ]
    }
   ],
   "source": [
    "# define the parameter values that should be searched\n",
    "c_range = [0.001, 0.01, 0.1, 1, 10, 100, 1000]\n",
    "\n",
    "# create a parameter grid: map the parameter names to the values that should be searched\n",
    "param_grid = dict(C=c_range)\n",
    "print param_grid"
   ]
  },
  {
   "cell_type": "code",
   "execution_count": 9,
   "metadata": {
    "collapsed": false
   },
   "outputs": [
    {
     "data": {
      "text/plain": [
       "GridSearchCV(cv=10, error_score='raise',\n",
       "       estimator=LogisticRegression(C=1000, class_weight=None, dual=False, fit_intercept=True,\n",
       "          intercept_scaling=1, max_iter=100, multi_class='ovr',\n",
       "          penalty='l2', random_state=None, solver='liblinear', tol=0.0001,\n",
       "          verbose=0),\n",
       "       fit_params={}, iid=True, loss_func=None, n_jobs=1,\n",
       "       param_grid={'C': [0.001, 0.01, 0.1, 1, 10, 100, 1000]},\n",
       "       pre_dispatch='2*n_jobs', refit=True, score_func=None,\n",
       "       scoring='accuracy', verbose=0)"
      ]
     },
     "execution_count": 9,
     "metadata": {},
     "output_type": "execute_result"
    }
   ],
   "source": [
    "# instantiate the grid\n",
    "grid = GridSearchCV(clf, param_grid, cv=10, scoring=\"accuracy\")\n",
    "\n",
    "# fit the grid with data\n",
    "grid.fit(X, y)"
   ]
  },
  {
   "cell_type": "code",
   "execution_count": 10,
   "metadata": {
    "collapsed": false
   },
   "outputs": [
    {
     "data": {
      "text/plain": [
       "[mean: 0.68928, std: 0.00074, params: {'C': 0.001},\n",
       " mean: 0.71878, std: 0.01100, params: {'C': 0.01},\n",
       " mean: 0.82006, std: 0.02383, params: {'C': 0.1},\n",
       " mean: 0.85152, std: 0.02293, params: {'C': 1},\n",
       " mean: 0.85152, std: 0.02930, params: {'C': 10},\n",
       " mean: 0.85152, std: 0.02869, params: {'C': 100},\n",
       " mean: 0.85005, std: 0.03140, params: {'C': 1000}]"
      ]
     },
     "execution_count": 10,
     "metadata": {},
     "output_type": "execute_result"
    }
   ],
   "source": [
    "# view the complete results (list of named tuples)\n",
    "grid.grid_scores_"
   ]
  },
  {
   "cell_type": "code",
   "execution_count": 11,
   "metadata": {
    "collapsed": false
   },
   "outputs": [
    {
     "name": "stdout",
     "output_type": "stream",
     "text": [
      "{'C': 0.001}\n",
      "[ 0.68780488  0.68780488  0.68965517  0.68965517  0.68965517  0.68965517\n",
      "  0.68965517  0.68965517  0.68965517  0.68965517]\n",
      "0.689282202557\n"
     ]
    }
   ],
   "source": [
    "# examine the first tuple\n",
    "print grid.grid_scores_[0].parameters\n",
    "print grid.grid_scores_[0].cv_validation_scores\n",
    "print grid.grid_scores_[0].mean_validation_score"
   ]
  },
  {
   "cell_type": "code",
   "execution_count": 13,
   "metadata": {
    "collapsed": false
   },
   "outputs": [
    {
     "name": "stdout",
     "output_type": "stream",
     "text": [
      "[0.68928220255653883, 0.71878072763028511, 0.82005899705014751, 0.85152409046214361, 0.85152409046214361, 0.85152409046214361, 0.85004916420845622]\n"
     ]
    }
   ],
   "source": [
    "# create a list of the mean scores for plotting the results\n",
    "grid_mean_scores = [result.mean_validation_score for result in grid.grid_scores_]\n",
    "print grid_mean_scores"
   ]
  },
  {
   "cell_type": "code",
   "execution_count": 14,
   "metadata": {
    "collapsed": false
   },
   "outputs": [
    {
     "data": {
      "image/png": "[encoded data removed]",
      "text/plain": [
       "<matplotlib.figure.Figure at 0x108c48190>"
      ]
     },
     "metadata": {},
     "output_type": "display_data"
    }
   ],
   "source": [
    "# plot the results\n",
    "plt.plot(c_range, grid_mean_scores)\n",
    "plt.xlabel(\"Value of C for Logistic Regression\")\n",
    "plt.ylabel(\"Cross-Validated Accuracy\")\n",
    "plt.xscale(\"log\")"
   ]
  },
  {
   "cell_type": "code",
   "execution_count": 15,
   "metadata": {
    "collapsed": false
   },
   "outputs": [
    {
     "name": "stdout",
     "output_type": "stream",
     "text": [
      "0.851524090462\n",
      "{'C': 1}\n",
      "LogisticRegression(C=1, class_weight=None, dual=False, fit_intercept=True,\n",
      "          intercept_scaling=1, max_iter=100, multi_class='ovr',\n",
      "          penalty='l2', random_state=None, solver='liblinear', tol=0.0001,\n",
      "          verbose=0)\n"
     ]
    }
   ],
   "source": [
    "# examine the best model\n",
    "print grid.best_score_\n",
    "print grid.best_params_\n",
    "print grid.best_estimator_"
   ]
  },
  {
   "cell_type": "markdown",
   "metadata": {},
   "source": [
    "### Searching multiple parameters simultaneously\n",
    "- Example: tuning the regularization `penalty` and `C` for logistic regression\n",
    "- Could tune parameters independently: change `penalty` while leaving `C` at its default value, and vice versa\n",
    "- But, best performance might be achieved when neither parameter is at its default value"
   ]
  },
  {
   "cell_type": "code",
   "execution_count": 16,
   "metadata": {
    "collapsed": false
   },
   "outputs": [
    {
     "name": "stdout",
     "output_type": "stream",
     "text": [
      "{'penalty': ['l1', 'l2'], 'C': [0.001, 0.01, 0.1, 1, 10, 100, 1000]}\n"
     ]
    }
   ],
   "source": [
    "# define the parameter values that should be searched\n",
    "c_range = [0.001, 0.01, 0.1, 1, 10, 100, 1000]\n",
    "penalties = [\"l1\", \"l2\"]\n",
    "\n",
    "# create a parameter grid: map the parameter names to the values that should be searched\n",
    "param_grid = dict(C=c_range, penalty=penalties)\n",
    "print param_grid"
   ]
  },
  {
   "cell_type": "code",
   "execution_count": 17,
   "metadata": {
    "collapsed": false
   },
   "outputs": [
    {
     "data": {
      "text/plain": [
       "GridSearchCV(cv=10, error_score='raise',\n",
       "       estimator=LogisticRegression(C=1000, class_weight=None, dual=False, fit_intercept=True,\n",
       "          intercept_scaling=1, max_iter=100, multi_class='ovr',\n",
       "          penalty='l2', random_state=None, solver='liblinear', tol=0.0001,\n",
       "          verbose=0),\n",
       "       fit_params={}, iid=True, loss_func=None, n_jobs=1,\n",
       "       param_grid={'penalty': ['l1', 'l2'], 'C': [0.001, 0.01, 0.1, 1, 10, 100, 1000]},\n",
       "       pre_dispatch='2*n_jobs', refit=True, score_func=None,\n",
       "       scoring='accuracy', verbose=0)"
      ]
     },
     "execution_count": 17,
     "metadata": {},
     "output_type": "execute_result"
    }
   ],
   "source": [
    "# instantiate and fit the grid\n",
    "grid = GridSearchCV(clf, param_grid, cv=10, scoring=\"accuracy\")\n",
    "grid.fit(X, y)"
   ]
  },
  {
   "cell_type": "code",
   "execution_count": 18,
   "metadata": {
    "collapsed": false
   },
   "outputs": [
    {
     "data": {
      "text/plain": [
       "[mean: 0.68928, std: 0.00074, params: {'penalty': 'l1', 'C': 0.001},\n",
       " mean: 0.68928, std: 0.00074, params: {'penalty': 'l2', 'C': 0.001},\n",
       " mean: 0.68928, std: 0.00074, params: {'penalty': 'l1', 'C': 0.01},\n",
       " mean: 0.71878, std: 0.01100, params: {'penalty': 'l2', 'C': 0.01},\n",
       " mean: 0.74533, std: 0.01496, params: {'penalty': 'l1', 'C': 0.1},\n",
       " mean: 0.82006, std: 0.02383, params: {'penalty': 'l2', 'C': 0.1},\n",
       " mean: 0.83382, std: 0.01955, params: {'penalty': 'l1', 'C': 1},\n",
       " mean: 0.85152, std: 0.02293, params: {'penalty': 'l2', 'C': 1},\n",
       " mean: 0.84710, std: 0.02362, params: {'penalty': 'l1', 'C': 10},\n",
       " mean: 0.85152, std: 0.02930, params: {'penalty': 'l2', 'C': 10},\n",
       " mean: 0.84366, std: 0.02112, params: {'penalty': 'l1', 'C': 100},\n",
       " mean: 0.85152, std: 0.02869, params: {'penalty': 'l2', 'C': 100},\n",
       " mean: 0.84366, std: 0.02732, params: {'penalty': 'l1', 'C': 1000},\n",
       " mean: 0.85005, std: 0.03140, params: {'penalty': 'l2', 'C': 1000}]"
      ]
     },
     "execution_count": 18,
     "metadata": {},
     "output_type": "execute_result"
    }
   ],
   "source": [
    "# view the complete results\n",
    "grid.grid_scores_"
   ]
  },
  {
   "cell_type": "code",
   "execution_count": 19,
   "metadata": {
    "collapsed": false
   },
   "outputs": [
    {
     "name": "stdout",
     "output_type": "stream",
     "text": [
      "0.851524090462\n",
      "{'penalty': 'l2', 'C': 1}\n"
     ]
    }
   ],
   "source": [
    "# examine the best model\n",
    "print grid.best_score_\n",
    "print grid.best_params_"
   ]
  },
  {
   "cell_type": "markdown",
   "metadata": {},
   "source": [
    "### Reducing computational expense using `RandomizedSearchCV`\n",
    "- Searching many different parameters at once may be computationally expensive\n",
    "- RandomizedSearchCV searches a subset of the parameters, and you control the computational \"budget\""
   ]
  },
  {
   "cell_type": "code",
   "execution_count": 20,
   "metadata": {
    "collapsed": true
   },
   "outputs": [],
   "source": [
    "# define the parameter values that should be searched\n",
    "stddev = 5\n",
    "mean = 0\n",
    "c_range = lognorm(s = stddev, loc = mean)\n",
    "penalties = [\"l1\", \"l2\"]"
   ]
  },
  {
   "cell_type": "markdown",
   "metadata": {},
   "source": [
    "- **Important**: Specify a continuous distribution (rather than a list of values) for any continous parameters\n",
    "- Here is a comprehensive list of statistical distribution functions from Scipy. http://docs.scipy.org/doc/scipy/reference/stats.html"
   ]
  },
  {
   "cell_type": "code",
   "execution_count": 21,
   "metadata": {
    "collapsed": false,
    "scrolled": true
   },
   "outputs": [
    {
     "name": "stdout",
     "output_type": "stream",
     "text": [
      "{'penalty': ['l1', 'l2'], 'C': <scipy.stats._distn_infrastructure.rv_frozen object at 0x108c48090>}\n"
     ]
    }
   ],
   "source": [
    "# create a parameter grid: map the parameter names to the values that should be searched\n",
    "param_dist = dict(C=c_range, penalty=penalties)\n",
    "print param_dist"
   ]
  },
  {
   "cell_type": "code",
   "execution_count": 22,
   "metadata": {
    "collapsed": false
   },
   "outputs": [
    {
     "data": {
      "text/plain": [
       "[mean: 0.83579, std: 0.02584, params: {'penalty': 'l2', 'C': 0.26205863797699064},\n",
       " mean: 0.84857, std: 0.02378, params: {'penalty': 'l1', 'C': 5.9000102543523205},\n",
       " mean: 0.76401, std: 0.01361, params: {'penalty': 'l2', 'C': 0.030183410954111325},\n",
       " mean: 0.85251, std: 0.02914, params: {'penalty': 'l2', 'C': 10.851457935577598},\n",
       " mean: 0.84464, std: 0.02369, params: {'penalty': 'l1', 'C': 22.611705337921464},\n",
       " mean: 0.84464, std: 0.02450, params: {'penalty': 'l1', 'C': 9.6860133576251037},\n",
       " mean: 0.84366, std: 0.01751, params: {'penalty': 'l1', 'C': 1.2162118876369601},\n",
       " mean: 0.83776, std: 0.02339, params: {'penalty': 'l2', 'C': 0.33323312700779611},\n",
       " mean: 0.68928, std: 0.00074, params: {'penalty': 'l1', 'C': 0.0066556639378277964},\n",
       " mean: 0.84317, std: 0.02029, params: {'penalty': 'l1', 'C': 136.0172863463157}]"
      ]
     },
     "execution_count": 22,
     "metadata": {},
     "output_type": "execute_result"
    }
   ],
   "source": [
    "# n_iter controls the number of searches\n",
    "rand = RandomizedSearchCV(clf, param_dist, cv=10, scoring='accuracy', n_iter=10, random_state=5)\n",
    "rand.fit(X, y)\n",
    "rand.grid_scores_"
   ]
  },
  {
   "cell_type": "code",
   "execution_count": 23,
   "metadata": {
    "collapsed": false
   },
   "outputs": [
    {
     "name": "stdout",
     "output_type": "stream",
     "text": [
      "0.852507374631\n",
      "{'penalty': 'l2', 'C': 10.851457935577598}\n"
     ]
    }
   ],
   "source": [
    "# examine the best model\n",
    "print rand.best_score_\n",
    "print rand.best_params_"
   ]
  },
  {
   "cell_type": "code",
   "execution_count": 24,
   "metadata": {
    "collapsed": false
   },
   "outputs": [
    {
     "name": "stdout",
     "output_type": "stream",
     "text": [
      "[0.847, 0.851, 0.851, 0.852, 0.852, 0.852, 0.852, 0.852, 0.852, 0.852, 0.852, 0.853, 0.853, 0.853, 0.853, 0.853, 0.853, 0.854, 0.854, 0.855]\n"
     ]
    }
   ],
   "source": [
    "best_scores = []\n",
    "\n",
    "# run RandomizedSearchCV 20 times (with n_iter=10) and record the best score\n",
    "for _ in range(20):\n",
    "    rand = RandomizedSearchCV(clf, param_dist, cv=10, scoring='accuracy', n_iter=10)\n",
    "    rand.fit(X, y)\n",
    "    best_scores.append(round(rand.best_score_, 3))\n",
    "\n",
    "# each time random search can achieve comparable accuracy scores as the best grid search result using fewer tries\n",
    "print sorted(best_scores)"
   ]
  },
  {
   "cell_type": "markdown",
   "metadata": {},
   "source": [
    "### Using the best parameters to make predictions"
   ]
  },
  {
   "cell_type": "code",
   "execution_count": 25,
   "metadata": {
    "collapsed": true
   },
   "outputs": [],
   "source": [
    "# make a prediction on out-of-sample data\n",
    "new_tweet = \"It's too hot today. I'm melting.\"\n",
    "new_tweet_bow = vectorizer.transform([new_tweet])"
   ]
  },
  {
   "cell_type": "code",
   "execution_count": 26,
   "metadata": {
    "collapsed": false
   },
   "outputs": [
    {
     "name": "stdout",
     "output_type": "stream",
     "text": [
      "best random search parameters {'penalty': 'l2', 'C': 4.8173143722824454}\n",
      "best grid search parameters {'penalty': 'l2', 'C': 1}\n"
     ]
    }
   ],
   "source": [
    "print \"best random search parameters\", rand.best_params_\n",
    "print \"best grid search parameters\", grid.best_params_"
   ]
  },
  {
   "cell_type": "code",
   "execution_count": 27,
   "metadata": {
    "collapsed": false
   },
   "outputs": [
    {
     "name": "stdout",
     "output_type": "stream",
     "text": [
      "random search predicts [0]\n",
      "grid search predicts [0]\n"
     ]
    }
   ],
   "source": [
    "# GridSearchCV and RandomizedSearchCV automatically refits the best model using all of the data\n",
    "print \"random search predicts\", rand.predict(new_tweet_bow)\n",
    "print \"grid search predicts\", grid.predict(new_tweet_bow)"
   ]
  },
  {
   "cell_type": "code",
   "execution_count": null,
   "metadata": {
    "collapsed": true
   },
   "outputs": [],
   "source": []
  }
 ],
 "metadata": {
  "kernelspec": {
   "display_name": "Python 2",
   "language": "python",
   "name": "python2"
  },
  "language_info": {
   "codemirror_mode": {
    "name": "ipython",
    "version": 2
   },
   "file_extension": ".py",
   "mimetype": "text/x-python",
   "name": "python",
   "nbconvert_exporter": "python",
   "pygments_lexer": "ipython2",
   "version": "2.7.6"
  }
 },
 "nbformat": 4,
 "nbformat_minor": 0
}
