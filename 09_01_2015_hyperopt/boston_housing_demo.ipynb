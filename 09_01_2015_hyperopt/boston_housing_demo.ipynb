{
 "cells": [
  {
   "cell_type": "code",
   "execution_count": 20,
   "metadata": {
    "collapsed": false
   },
   "outputs": [],
   "source": [
    "# load our dependencies\n",
    "import time\n",
    "import numpy as np\n",
    "import warnings\n",
    "import matplotlib.pyplot as plt\n",
    "\n",
    "from operator import itemgetter\n",
    "from hyperopt import hp, fmin, rand, tpe, space_eval, Trials, STATUS_OK\n",
    "from scipy.stats import randint, uniform, lognorm\n",
    "from sklearn.metrics import mean_squared_error, make_scorer\n",
    "from sklearn.datasets import load_boston\n",
    "from sklearn.ensemble import GradientBoostingRegressor\n",
    "from sklearn.grid_search import GridSearchCV, RandomizedSearchCV\n",
    "from sklearn.cross_validation import train_test_split, cross_val_score\n",
    "\n",
    "%matplotlib inline\n",
    "plt.style.use(\"ggplot\")\n",
    "warnings.filterwarnings(\"ignore\")"
   ]
  },
  {
   "cell_type": "markdown",
   "metadata": {},
   "source": [
    "## Optimizing Hyper-parameters for Machine Learning (part 2)\n",
    "\n",
    "part 1 https://github.com/Eric-Xu/nycdssg_talks/blob/master/08_03_2015_hyperparams/grid_and_random_search_demo.ipynb\n",
    "\n",
    "**Objective:** Compare hyper-parameter results found through grid search, random search, and hyperopt search in predicting Boston housing prices."
   ]
  },
  {
   "cell_type": "code",
   "execution_count": 21,
   "metadata": {
    "collapsed": false
   },
   "outputs": [
    {
     "name": "stdout",
     "output_type": "stream",
     "text": [
      "Total rows: 506\n",
      "Feature names: ['CRIM' 'ZN' 'INDUS' 'CHAS' 'NOX' 'RM' 'AGE' 'DIS' 'RAD' 'TAX' 'PTRATIO'\n",
      " 'B' 'LSTAT' 'MEDV']\n",
      "First row features: [  6.32000000e-03   1.80000000e+01   2.31000000e+00   0.00000000e+00\n",
      "   5.38000000e-01   6.57500000e+00   6.52000000e+01   4.09000000e+00\n",
      "   1.00000000e+00   2.96000000e+02   1.53000000e+01   3.96900000e+02\n",
      "   4.98000000e+00]\n",
      "First row target: 24.0\n"
     ]
    }
   ],
   "source": [
    "# read in the Boston housing dataset\n",
    "# description of dataset can be found at:\n",
    "# https://github.com/scikit-learn/scikit-learn/blob/master/sklearn/datasets/descr/boston_house_prices.rst\n",
    "boston = load_boston()\n",
    "\n",
    "# set our features and target\n",
    "X, y = boston.data, boston.target\n",
    "\n",
    "# peek at our dataset\n",
    "print \"Total rows:\", X.shape[0]\n",
    "print \"Feature names:\", boston[\"feature_names\"]\n",
    "print \"First row features:\", X[0]\n",
    "print \"First row target:\", y[0]"
   ]
  },
  {
   "cell_type": "markdown",
   "metadata": {},
   "source": [
    "### MSE of default classifier"
   ]
  },
  {
   "cell_type": "code",
   "execution_count": 34,
   "metadata": {
    "collapsed": false
   },
   "outputs": [
    {
     "name": "stdout",
     "output_type": "stream",
     "text": [
      "GradientBoostingRegressor(alpha=0.9, init=None, learning_rate=0.1, loss=ls,\n",
      "             max_depth=3, max_features=None, min_samples_leaf=1,\n",
      "             min_samples_split=2, n_estimators=100, random_state=None,\n",
      "             subsample=1.0, verbose=0)\n",
      "baseline MSE 18.4607094065\n"
     ]
    }
   ],
   "source": [
    "# initialize a gradient boosting classifier with default parameters\n",
    "default_clf = GradientBoostingRegressor()\n",
    "\n",
    "# inspect the default parameters\n",
    "print default_clf\n",
    "\n",
    "# run a 10-fold cross-validation with our classifier\n",
    "mse_scores = cross_val_score(default_clf, X, y, cv=10, scoring=\"mean_squared_error\")\n",
    "\n",
    "# our goal is to find the parameter configuration that minimizes the mean squared error\n",
    "print \"MSE of default classifier\", np.mean(-mse_scores)"
   ]
  },
  {
   "cell_type": "markdown",
   "metadata": {
    "collapsed": true
   },
   "source": [
    "### Lowest MSE of best parameters found by `GridSearchCV`"
   ]
  },
  {
   "cell_type": "code",
   "execution_count": 62,
   "metadata": {
    "collapsed": true
   },
   "outputs": [],
   "source": [
    "# helper function to get best scores\n",
    "def report(grid_scores, n_top=3):\n",
    "    top_scores = sorted(grid_scores, key=itemgetter(1))[:n_top]\n",
    "    for i, score in enumerate(top_scores):\n",
    "        print(\"Model with rank: {0}\".format(i + 1))\n",
    "        print(\"Mean MSE score: {0:.3f}\".format(score.mean_validation_score))\n",
    "        print(\"Parameters: {0}\\n\".format(score.parameters))"
   ]
  },
  {
   "cell_type": "code",
   "execution_count": 59,
   "metadata": {
    "collapsed": false
   },
   "outputs": [
    {
     "name": "stdout",
     "output_type": "stream",
     "text": [
      "Model with rank: 1\n",
      "Mean MSE score: 19.782\n",
      "Parameters: {'min_samples_split': 1, 'loss': 'lad', 'learning_rate': 0.1, 'n_estimators': 500, 'max_depth': 5}\n",
      "\n",
      "2 trials sampled\n",
      "CPU times: user 81.9 ms, sys: 23.5 ms, total: 105 ms\n",
      "Wall time: 6.77 s\n"
     ]
    }
   ],
   "source": [
    "%%time\n",
    "\n",
    "# define the parameter search space\n",
    "param_grid = {\n",
    "    \"n_estimators\": [100,500,1000],\n",
    "    \"learning_rate\": [0.01,0.1,1],\n",
    "    \"max_depth\": [1,5,10],\n",
    "    \"min_samples_split\": [1,5,10],\n",
    "    \"loss\": [\"ls\", \"lad\"]\n",
    "}\n",
    "\n",
    "# create a MSE scorer object\n",
    "mse_scorer = make_scorer(mean_squared_error)\n",
    "\n",
    "# instantiate our grid search running a 10-fold cross-validation for each parameter combination\n",
    "grid_clf = GradientBoostingRegressor()\n",
    "grid = GridSearchCV(grid_clf, param_grid, cv=10, scoring=mse_scorer, n_jobs=-1)\n",
    "\n",
    "# fit grid search with data\n",
    "grid.fit(X, y)\n",
    "\n",
    "report(grid.grid_scores_)\n",
    "print \"Total {0} parameter combinations tested\".format(len(grid.grid_scores_))"
   ]
  },
  {
   "cell_type": "markdown",
   "metadata": {},
   "source": [
    "### Lowest MSE of best parameters found by `RandomizedSearchCV`"
   ]
  },
  {
   "cell_type": "code",
   "execution_count": 64,
   "metadata": {
    "collapsed": false
   },
   "outputs": [
    {
     "name": "stdout",
     "output_type": "stream",
     "text": [
      "Model with rank: 1\n",
      "Mean MSE score: 23.495\n",
      "Parameters: {'min_samples_split': 3, 'loss': 'ls', 'learning_rate': 0.4464848850550619, 'n_estimators': 464, 'max_depth': 5}\n",
      "\n",
      "Model with rank: 2\n",
      "Mean MSE score: 23.994\n",
      "Parameters: {'min_samples_split': 1, 'loss': 'ls', 'learning_rate': 0.82917849749949668, 'n_estimators': 693, 'max_depth': 1}\n",
      "\n",
      "Model with rank: 3\n",
      "Mean MSE score: 24.430\n",
      "Parameters: {'min_samples_split': 8, 'loss': 'lad', 'learning_rate': 0.65224870034040483, 'n_estimators': 131, 'max_depth': 5}\n",
      "\n",
      "Total 10 trials sampled\n",
      "CPU times: user 2.83 s, sys: 57.4 ms, total: 2.88 s\n",
      "Wall time: 48.7 s\n"
     ]
    }
   ],
   "source": [
    "%%time\n",
    "\n",
    "# define the parameter search space\n",
    "param_dist = {\n",
    "    \"n_estimators\": randint(1,1000),\n",
    "    \"learning_rate\": lognorm(0.5,0,1),\n",
    "    \"max_depth\": randint(1, 10),\n",
    "    \"min_samples_split\": randint(1, 10),\n",
    "    \"loss\": [\"ls\", \"lad\"]\n",
    "}\n",
    "\n",
    "# create a MSE scorer object\n",
    "mse_scorer = make_scorer(mean_squared_error)\n",
    "\n",
    "# instantiate our random search running a 10-fold cross-validation for each trial\n",
    "n_trials = 60\n",
    "rand_clf = GradientBoostingRegressor()\n",
    "rand = RandomizedSearchCV(rand_clf, param_dist, cv=10, scoring=mse_scorer, n_iter=n_trials, random_state=99, n_jobs=-1)\n",
    "\n",
    "# fit grid search with data\n",
    "rand.fit(X, y)\n",
    "\n",
    "report(rand.grid_scores_)\n",
    "print \"Total {0} trials sampled\".format(n_trials)"
   ]
  },
  {
   "cell_type": "code",
   "execution_count": null,
   "metadata": {
    "collapsed": true
   },
   "outputs": [],
   "source": []
  }
 ],
 "metadata": {
  "kernelspec": {
   "display_name": "Python 2",
   "language": "python",
   "name": "python2"
  },
  "language_info": {
   "codemirror_mode": {
    "name": "ipython",
    "version": 2
   },
   "file_extension": ".py",
   "mimetype": "text/x-python",
   "name": "python",
   "nbconvert_exporter": "python",
   "pygments_lexer": "ipython2",
   "version": "2.7.6"
  }
 },
 "nbformat": 4,
 "nbformat_minor": 0
}
