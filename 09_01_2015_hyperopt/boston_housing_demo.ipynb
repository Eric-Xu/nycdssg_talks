{
 "cells": [
  {
   "cell_type": "code",
   "execution_count": 2,
   "metadata": {
    "collapsed": false
   },
   "outputs": [],
   "source": [
    "# load our dependencies\n",
    "import time\n",
    "import numpy as np\n",
    "import warnings\n",
    "import matplotlib.pyplot as plt\n",
    "\n",
    "from operator import itemgetter\n",
    "from hyperopt import hp, fmin, rand, tpe, space_eval, Trials, STATUS_OK\n",
    "from scipy.stats import randint, uniform, lognorm\n",
    "from sklearn.metrics import mean_squared_error, make_scorer\n",
    "from sklearn.datasets import load_boston\n",
    "from sklearn.ensemble import GradientBoostingRegressor\n",
    "from sklearn.grid_search import GridSearchCV, RandomizedSearchCV\n",
    "from sklearn.cross_validation import train_test_split, cross_val_score\n",
    "\n",
    "%matplotlib inline\n",
    "plt.style.use(\"ggplot\")\n",
    "warnings.filterwarnings(\"ignore\")"
   ]
  },
  {
   "cell_type": "markdown",
   "metadata": {},
   "source": [
    "## Optimizing Hyper-parameters for Machine Learning (part 2)\n",
    "\n",
    "part 1 https://github.com/Eric-Xu/nycdssg_talks/blob/master/08_03_2015_hyperparams/grid_and_random_search_demo.ipynb\n",
    "\n",
    "**Objective:** Compare hyper-parameter results found through grid search, random search, and hyperopt search in predicting Boston housing prices."
   ]
  },
  {
   "cell_type": "code",
   "execution_count": 19,
   "metadata": {
    "collapsed": false
   },
   "outputs": [
    {
     "name": "stdout",
     "output_type": "stream",
     "text": [
      "Total rows: 506\n",
      "Feature names: ['CRIM' 'ZN' 'INDUS' 'CHAS' 'NOX' 'RM' 'AGE' 'DIS' 'RAD' 'TAX' 'PTRATIO'\n",
      " 'B' 'LSTAT' 'MEDV']\n",
      "First row features: [  6.32000000e-03   1.80000000e+01   2.31000000e+00   0.00000000e+00\n",
      "   5.38000000e-01   6.57500000e+00   6.52000000e+01   4.09000000e+00\n",
      "   1.00000000e+00   2.96000000e+02   1.53000000e+01   3.96900000e+02\n",
      "   4.98000000e+00]\n",
      "First row target: 24.0\n"
     ]
    }
   ],
   "source": [
    "# read in the Boston housing dataset\n",
    "# description of dataset can be found at:\n",
    "# https://github.com/scikit-learn/scikit-learn/blob/master/sklearn/datasets/descr/boston_house_prices.rst\n",
    "boston = load_boston()\n",
    "\n",
    "# set our features and target\n",
    "X, y = boston.data, boston.target\n",
    "\n",
    "# peek at our dataset\n",
    "print \"Total rows:\", X.shape[0]\n",
    "print \"Feature names:\", boston[\"feature_names\"]\n",
    "print \"First row features:\", X[0]\n",
    "print \"First row target:\", y[0]"
   ]
  },
  {
   "cell_type": "markdown",
   "metadata": {},
   "source": [
    "### Classifier with default parameters"
   ]
  },
  {
   "cell_type": "code",
   "execution_count": 15,
   "metadata": {
    "collapsed": false
   },
   "outputs": [
    {
     "name": "stdout",
     "output_type": "stream",
     "text": [
      "GradientBoostingRegressor(alpha=0.9, init=None, learning_rate=0.1, loss=ls,\n",
      "             max_depth=3, max_features=None, min_samples_leaf=1,\n",
      "             min_samples_split=2, n_estimators=100, random_state=None,\n",
      "             subsample=1.0, verbose=0)\n",
      "18.4938526518\n"
     ]
    }
   ],
   "source": [
    "# initialize a gradient boosting classifier with default parameters\n",
    "default_clf = GradientBoostingRegressor()\n",
    "\n",
    "# inspect the default parameters\n",
    "print default_clf\n",
    "\n",
    "# run a 10-fold cross-validation with our classifier\n",
    "mse_scores = cross_val_score(default_clf, X, y, cv=10, scoring=\"mean_squared_error\")\n",
    "\n",
    "# our goal is to find the parameter configuration that minimizes the mean squared error\n",
    "print np.mean(-mse_scores)"
   ]
  },
  {
   "cell_type": "code",
   "execution_count": null,
   "metadata": {
    "collapsed": true
   },
   "outputs": [],
   "source": []
  }
 ],
 "metadata": {
  "kernelspec": {
   "display_name": "Python 2",
   "language": "python",
   "name": "python2"
  },
  "language_info": {
   "codemirror_mode": {
    "name": "ipython",
    "version": 2
   },
   "file_extension": ".py",
   "mimetype": "text/x-python",
   "name": "python",
   "nbconvert_exporter": "python",
   "pygments_lexer": "ipython2",
   "version": "2.7.6"
  }
 },
 "nbformat": 4,
 "nbformat_minor": 0
}
